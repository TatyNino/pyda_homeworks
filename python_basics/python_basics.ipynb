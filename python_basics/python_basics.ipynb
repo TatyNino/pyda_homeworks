{
 "cells": [
  {
   "cell_type": "code",
   "execution_count": null,
   "metadata": {},
   "outputs": [],
   "source": [
    "# Домашнее задание к лекции \"Основы Python\""
   ]
  },
  {
   "cell_type": "markdown",
   "metadata": {},
   "source": [
    "## Задание 1"
   ]
  },
  {
   "cell_type": "markdown",
   "metadata": {},
   "source": [
    "Даны 2 переменных, в которых хранятся строки произвольной длины: *phrase_1* и *phrase_2*.  \n",
    "Напишите код, который проверяет какая из этих строк длиннее."
   ]
  },
  {
   "cell_type": "markdown",
   "metadata": {},
   "source": [
    "Примеры работы программы:  \n",
    "1.  \n",
    "\n",
    "```\n",
    "phrase_1 = 'Насколько проще было бы писать программы, если бы не заказчики'\n",
    "phrase_2 = '640Кб должно хватить для любых задач. Билл Гейтс (по легенде)'\n",
    "\n",
    "```\n",
    "\n",
    "Результат:  \n",
    "`Фраза 1 длиннее фразы 2`\n",
    "2.     \n",
    "\n",
    "```\n",
    "phrase_1 = '640Кб должно хватить для любых задач. Билл Гейтс (по легенде)'\n",
    "phrase_2 = 'Насколько проще было бы писать программы, если бы не заказчики'\n",
    "```\n",
    "\n",
    "Результат:  \n",
    "`Фраза 2 длиннее фразы 1`\n",
    "3.     \n",
    "\n",
    "```\n",
    "phrase_1 = 'Насколько проще было бы писать программы, если бы не заказчики'\n",
    "phrase_2 = 'Насколько проще было бы писать программы, если бы не заказчики'\n",
    "```\n",
    "\n",
    "Результат:  \n",
    "`Фразы равной длины`"
   ]
  },
  {
   "cell_type": "code",
   "execution_count": 3,
   "metadata": {},
   "outputs": [
    {
     "name": "stdout",
     "output_type": "stream",
     "text": [
      "Введите фразу 1Насколько проще было бы писать программы, если бы не заказчики\n",
      "Введите фразу 2Насколько проще было бы писать программы, если бы не заказчики\n",
      "Фразы равной длины\n"
     ]
    }
   ],
   "source": [
    "phrase_1 = input(\"Введите фразу 1\")\n",
    "phrase_2 = input(\"Введите фразу 2\")\n",
    "L_phrase_1 = len(phrase_1)\n",
    "L_phrase_2 = len(phrase_2)\n",
    "if L_phrase_1 > L_phrase_2:\n",
    "    print(\"Фраза 1 длиннее фразы 2\")\n",
    "elif L_phrase_1 < L_phrase_2:\n",
    "    print(\"Фраза 2 длиннее фразы 1\")\n",
    "else:\n",
    "    print(\"Фразы равной длины\")"
   ]
  },
  {
   "cell_type": "markdown",
   "metadata": {},
   "source": [
    "## Задание 2"
   ]
  },
  {
   "cell_type": "markdown",
   "metadata": {},
   "source": [
    "Дана переменная, в которой хранится четырехзначное число (год). Необходимо написать программу, которая выведет, является ли данный год високосным или обычным.\n",
    "\n",
    "Пример работы программы:\n",
    "1.  \n",
    "\n",
    "```\n",
    "year = 2020\n",
    "```\n",
    "Результат:  \n",
    "`Високосный год` \n",
    "\n",
    "2.  \n",
    "\n",
    "```\n",
    "year = 2019\n",
    "```\n",
    "Результат:  \n",
    "`Обычный год` "
   ]
  },
  {
   "cell_type": "code",
   "execution_count": 14,
   "metadata": {},
   "outputs": [
    {
     "name": "stdout",
     "output_type": "stream",
     "text": [
      "Введите номер года 2020\n",
      "Високосный год\n"
     ]
    }
   ],
   "source": [
    "Year_number = int(input(\"Введите номер года \"))\n",
    "if Year_number % 4 == 0 and Year_number % 100 != 0 or Year_number % 400 == 0:\n",
    "    print(\"Високосный год\")\n",
    "else:\n",
    "    print(\"Обычный год\")\n",
    "\n",
    "\n",
    "    "
   ]
  },
  {
   "cell_type": "markdown",
   "metadata": {},
   "source": [
    "## Задание 3"
   ]
  },
  {
   "cell_type": "markdown",
   "metadata": {},
   "source": [
    "Необходимо написать программу, которая будет запрашивать у пользователя месяц и дату рождения и выводить соответствующий знак зодиака.\n",
    "\n",
    "Пример работы программы:  \n",
    "1.  \n",
    "\n",
    "```\n",
    "Введите день:\n",
    "30\n",
    "\n",
    "Введите месяц:\n",
    "Август\n",
    "```\n",
    "Результат:  \n",
    "`Ваш знак зодиака: Дева` \n",
    "\n",
    "2.  \n",
    "\n",
    "```\n",
    "Введите день:\n",
    "29\n",
    "\n",
    "Введите месяц:\n",
    "Октябрь\n",
    "```\n",
    "Результат:  \n",
    "`Ваш знак зодиака: Скорпион` \n"
   ]
  },
  {
   "cell_type": "code",
   "execution_count": 34,
   "metadata": {},
   "outputs": [
    {
     "name": "stdout",
     "output_type": "stream",
     "text": [
      "Введите день рождения 11\n",
      "Введите месяц рождения Сентябрь\n",
      "Ваш знак зодиака: Дева\n"
     ]
    }
   ],
   "source": [
    "Day_of_birth = int(input(\"Введите день рождения \"))\n",
    "Month = input(\"Введите месяц рождения \")\n",
    "if Month == 'Январь':\n",
    "    Month_of_birth = 1\n",
    "if Month == 'Февраль':\n",
    "    Month_of_birth = 2\n",
    "if Month == 'Март':\n",
    "    Month_of_birth = 3\n",
    "if Month == 'Апрель':\n",
    "    Month_of_birth = 4\n",
    "if Month == 'Май':\n",
    "    Month_of_birth = 5    \n",
    "if Month == 'Июнь':\n",
    "    Month_of_birth = 6\n",
    "if Month == 'Июль':\n",
    "    Month_of_birth = 7    \n",
    "if Month == 'Август':\n",
    "    Month_of_birth = 8\n",
    "if Month == 'Сентябрь':\n",
    "    Month_of_birth = 9\n",
    "if Month == 'Октябрь':\n",
    "    Month_of_birth = 10 \n",
    "if Month == 'Ноябрь':\n",
    "    Month_of_birth = 11\n",
    "if Month == 'Декабрь':\n",
    "    Month_of_birth = 12\n",
    "if (Day_of_birth >= 21 and Day_of_birth < 31 and Month_of_birth == 3) or (Day_of_birth >= 1 and Day_of_birth <=19 and Month_of_birth == 4):\n",
    "    print(\"Ваш знак зодиака: Овен\")\n",
    "elif (Day_of_birth >= 20 and Day_of_birth < 30 and Month_of_birth == 4) or (Day_of_birth >= 1 and Day_of_birth <=20 and Month_of_birth == 5):\n",
    "    print(\"Ваш знак зодиака: Телец\")\n",
    "elif (Day_of_birth >= 21 and Day_of_birth < 31 and Month_of_birth == 5) or (Day_of_birth >= 1 and Day_of_birth <=21 and Month_of_birth == 6):\n",
    "    print(\"Ваш знак зодиака: Близнецы\")\n",
    "elif (Day_of_birth >= 22 and Day_of_birth < 30 and Month_of_birth == 6) or (Day_of_birth >= 1 and Day_of_birth <=22 and Month_of_birth == 7):\n",
    "    print(\"Ваш знак зодиака: Рак\")\n",
    "elif (Day_of_birth >= 23 and Day_of_birth < 31 and Month_of_birth == 7) or (Day_of_birth >= 1 and Day_of_birth <=22 and Month_of_birth == 8):\n",
    "    print(\"Ваш знак зодиака: Лев\") \n",
    "elif (Day_of_birth >= 23 and Day_of_birth < 31 and Month_of_birth == 8) or (Day_of_birth >= 1 and Day_of_birth <=22 and Month_of_birth == 9):\n",
    "    print(\"Ваш знак зодиака: Дева\")\n",
    "elif (Day_of_birth >= 23 and Day_of_birth < 30 and Month_of_birth == 9) or (Day_of_birth >= 1 and Day_of_birth <=23 and Month_of_birth == 10):\n",
    "    print(\"Ваш знак зодиака: Весы\")\n",
    "elif (Day_of_birth >= 24 and Day_of_birth < 31 and Month_of_birth == 10) or (Day_of_birth >= 1 and Day_of_birth <=22 and Month_of_birth == 11):\n",
    "    print(\"Ваш знак зодиака: Скорпион\")\n",
    "elif (Day_of_birth >= 23 and Day_of_birth < 31 and Month_of_birth == 11) or (Day_of_birth >= 1 and Day_of_birth <=21 and Month_of_birth == 12):\n",
    "    print(\"Ваш знак зодиака: Стрелец\")\n",
    "elif (Day_of_birth >= 22 and Day_of_birth < 31 and Month_of_birth == 12) or (Day_of_birth >= 1 and Day_of_birth <=20 and Month_of_birth == 1):\n",
    "    print(\"Ваш знак зодиака: Козерог\")   \n",
    "elif (Day_of_birth >= 21 and Day_of_birth < 31 and Month_of_birth == 1) or (Day_of_birth >= 1 and Day_of_birth <=18 and Month_of_birth == 2):\n",
    "    print(\"Ваш знак зодиака: Водолей\")\n",
    "elif (Day_of_birth >= 19 and Day_of_birth < 29 and Month_of_birth == 2) or (Day_of_birth >= 1 and Day_of_birth <=20 and Month_of_birth == 3):\n",
    "    print(\"Ваш знак зодиака: Рыбы\")   \n",
    "    "
   ]
  },
  {
   "cell_type": "code",
   "execution_count": null,
   "metadata": {},
   "outputs": [],
   "source": []
  },
  {
   "cell_type": "markdown",
   "metadata": {},
   "source": [
    "## Задание 4"
   ]
  },
  {
   "cell_type": "markdown",
   "metadata": {},
   "source": [
    "Вам нужно написать программу для подбора упаковок по размерам товара. Размеры (ширина, длина, высота) хранятся в переменных (в сантиметрах):\n",
    "\n",
    "Используйте следующие правила:\n",
    "- если каждое из трех измерений менее 15 сантиметров, то выведите на экран \"Коробка №1\";\n",
    "- если хотя бы одно из измерений больше 15 сантиметров, но менее 50 сантиметров, то выводите \"Коробка №2\";\n",
    "- если длина товара больше 2 метров, то выводите \"Упаковка для лыж\";\n",
    "- во всех остальных случаях выводите \"Стандартная коробка №3\".\n",
    "\n",
    "Пример работы программы:  \n",
    "1.  \n",
    "\n",
    "```\n",
    "width = 15\n",
    "length = 50\n",
    "height = 15\n",
    "```\n",
    "Результат:  \n",
    "`Стандартная коробка №3` \n",
    "\n",
    "2.  \n",
    "\n",
    "```\n",
    "width = 45\n",
    "length = 205\n",
    "height = 45\n",
    "```\n",
    "Результат:  \n",
    "`Ищите упаковку для лыж` "
   ]
  },
  {
   "cell_type": "code",
   "execution_count": 39,
   "metadata": {},
   "outputs": [
    {
     "name": "stdout",
     "output_type": "stream",
     "text": [
      "Введите ширину упаковки: 10\n",
      "Введите длину упаковки: 10\n",
      "Введите высоту упаковки: 10\n",
      "Коробка №1\n"
     ]
    }
   ],
   "source": [
    "width = int(input(\"Введите ширину упаковки: \"))\n",
    "length = int(input(\"Введите длину упаковки: \"))\n",
    "height = int(input(\"Введите высоту упаковки: \"))\n",
    "if width < 15 and length < 15 and height <15:\n",
    "    print(\"Коробка №1\")\n",
    "elif length > 200:\n",
    "    print(\"Упаковка для лыж\")\n",
    "elif (50 <= length <= 200) or (50 <= width <= 200) or (50 <= height <= 200):\n",
    "    print(\"Стандартная коробка №3\")\n",
    "else:\n",
    "    print (\"Коробка №2\")\n",
    "    \n"
   ]
  },
  {
   "cell_type": "markdown",
   "metadata": {},
   "source": [
    "## Задание 5 (необязательное)"
   ]
  },
  {
   "cell_type": "markdown",
   "metadata": {},
   "source": [
    "Дана переменная, в которой хранится шестизначное число (номер проездного билета). Напишите программу, которая будет определять, является ли данный билет \"счастливым\". Билет считается счастливым, если сумма первых трех цифр совпадает с суммой последних трех цифр номера.   \n",
    "\n",
    "Примеры работы программы:  \n",
    "1. ```number = 123456```\n",
    "\n",
    "Результат:  \n",
    "`Неасчастливый билет`\n",
    "2. ```number = 123321```\n",
    "\n",
    "Результат:  \n",
    "`Счастливый билет`\n"
   ]
  },
  {
   "cell_type": "code",
   "execution_count": 48,
   "metadata": {},
   "outputs": [
    {
     "name": "stdout",
     "output_type": "stream",
     "text": [
      "Введите число: 123321\n",
      "6\n",
      "6\n",
      "Счастливый билет\n"
     ]
    }
   ],
   "source": [
    "number = input (\"Введите число: \")\n",
    "len_number = len(number)\n",
    "len_number_half = int (len_number / 2)\n",
    "if len_number % 2 == 0:\n",
    "    i = 0 #счетчик для подсчета суммы первой половины числа\n",
    "    sum_first_part = 0 #переменная суммы первой половины числа\n",
    "    while i < len_number_half:\n",
    "        sum_first_part += int (number [i])\n",
    "        i += 1\n",
    "    print (sum_first_part)\n",
    "    j = len_number - 1 #счетчик для подсчета суммы второй половины числа\n",
    "    sum_second_part = 0 #переменная суммы второй половины числа\n",
    "    while j >= len_number_half:\n",
    "        sum_second_part += int (number [j])\n",
    "        j -= 1\n",
    "    print (sum_second_part)\n",
    "    if sum_first_part == sum_second_part:\n",
    "        print (\"Счастливый билет\")\n",
    "    else:\n",
    "        print (\"Несчастливый билет\")  \n",
    "else:\n",
    "    print (\"Введите четное число \")\n",
    "    \n",
    "# Вопрос:как отправлять к вводу нового числа?\n",
    "\n",
    "\n",
    "\n",
    "\n"
   ]
  },
  {
   "cell_type": "markdown",
   "metadata": {},
   "source": [
    "## Задание 6 (необязательное)"
   ]
  },
  {
   "cell_type": "markdown",
   "metadata": {},
   "source": [
    "Напишите программу, которая сможет вычислять площади трех фигур (круг, треугольник и прямоугольник).\n",
    "Тип фигуры запрашиваем через пользовательский ввод, после чего делаем запрос характеристик фигуры:\n",
    "\n",
    "- если пользователь выбрал круг, запрашиваем его радиус,\n",
    "- если треугольник – длины трех его сторон;\n",
    "- если прямоугольник – длины двух его сторон.\n",
    "\n",
    "Пример работы программы:\n",
    "1.  \n",
    "\n",
    "```\n",
    "Введите тип фигуры:\n",
    "Круг\n",
    "\n",
    "Введите радиус круга:\n",
    "10\n",
    "```\n",
    "Результат:  \n",
    "`Площадь круга: 314.16`\n",
    "\n",
    "2.  \n",
    "\n",
    "```\n",
    "Введите тип фигуры:\n",
    "Треугольник\n",
    "\n",
    "Введите длину стороны A:\n",
    "2\n",
    "\n",
    "Введите длину стороны B:\n",
    "2\n",
    "\n",
    "Введите длину стороны C:\n",
    "3\n",
    "```\n",
    "Результат:  \n",
    "`Площадь треугольника: 1.98`"
   ]
  },
  {
   "cell_type": "code",
   "execution_count": 67,
   "metadata": {},
   "outputs": [
    {
     "name": "stdout",
     "output_type": "stream",
     "text": [
      "Введите тип фигуры: ловпа\n",
      "Не верное имя фигуры\n"
     ]
    }
   ],
   "source": [
    "import math\n",
    "type_of_figure = input(\"Введите тип фигуры: \")\n",
    "\n",
    "if type_of_figure == \"Круг\":\n",
    "    r_circle = float (input(\"Введите радиус круга: \"))\n",
    "    square_circle = round (math.pi*(r_circle**2),1)\n",
    "    print (square_circle)\n",
    "elif type_of_figure == \"Треугольник\":\n",
    "    side_a_triangle = float (input (\"Введите длину стороны А треугольника: \"))\n",
    "    side_b_triangle = float (input (\"Введите длину стороны В треугольника: \"))\n",
    "    side_c_triangle = float (input (\"Введите длину стороны С треугольника: \"))\n",
    "    half_perimetr = (side_a_triangle+side_b_triangle+side_c_triangle)/2\n",
    "    square_triangle = round (math.sqrt ((half_perimetr*(half_perimetr-side_a_triangle)*(half_perimetr-side_b_triangle)*(half_perimetr-side_c_triangle))),1)\n",
    "    print (square_triangle)\n",
    "elif type_of_figure == \"Прямоугольник\":\n",
    "    side_a_rectangle = float (input (\"Введите длину стороны А прямоугольника: \"))\n",
    "    side_b_rectangle = float (input (\"Введите длину стороны В прямоугольника: \"))\n",
    "    square_rectangle = round (side_a_rectangle*side_b_rectangle)\n",
    "    print (square_rectangle)\n",
    "else:\n",
    "    print (\"Не верное имя фигуры\")\n",
    "\n",
    " \n",
    "  "
   ]
  },
  {
   "cell_type": "markdown",
   "metadata": {},
   "source": [
    "#### ПРИМЕЧАНИЕ\n",
    "Домашнее задание сдается ссылкой на репозиторий [GitHub](https://github.com/).\n",
    "Не сможем проверить или помочь, если вы пришлете:\n",
    "- файлы;\n",
    "- архивы;\n",
    "- скриншоты кода.\n",
    "\n",
    "Все обсуждения и консультации по выполнению домашнего задания ведутся только на соответствующем канале в slack.\n",
    "\n",
    "##### Как правильно задавать вопросы аспирантам, преподавателям и коллегам\n",
    "Прежде чем задать вопрос, попробуйте найти ответ в интернете. Навык самостоятельного поиска информации — один из важнейших. Каждый практикующий специалист любого уровня делает это ежедневно.\n",
    "\n",
    "Сформулируйте вопрос по алгоритму:  \n",
    "1) Что я делаю?  \n",
    "2) Какого результата я ожидаю?  \n",
    "3) Как фактический результат отличается от ожидаемого?  \n",
    "4) Что я уже попробовал сделать, чтобы исправить проблему?  \n",
    "\n",
    "По возможности прикрепите к вопросу скриншоты либо ссылки на код. Не выкладывайте все решение, оставляйте только проблемный и воспроизводимый участок кода."
   ]
  }
 ],
 "metadata": {
  "kernelspec": {
   "display_name": "Python 3",
   "language": "python",
   "name": "python3"
  },
  "language_info": {
   "codemirror_mode": {
    "name": "ipython",
    "version": 3
   },
   "file_extension": ".py",
   "mimetype": "text/x-python",
   "name": "python",
   "nbconvert_exporter": "python",
   "pygments_lexer": "ipython3",
   "version": "3.8.3"
  }
 },
 "nbformat": 4,
 "nbformat_minor": 2
}
