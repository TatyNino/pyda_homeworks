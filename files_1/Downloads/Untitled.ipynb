{
 "cells": [
  {
   "cell_type": "code",
   "execution_count": 3,
   "metadata": {},
   "outputs": [],
   "source": [
    "from pprint import pprint\n",
    "import json\n",
    "purchases = {}\n",
    "with open('purchase_log.txt', 'r') as f:\n",
    "    for line in f:\n",
    "        dict_ = json.loads(line) \n",
    "        a = dict_[\"user_id\"]\n",
    "        b = dict_[\"category\"]\n",
    "        purchases[a] = b\n",
    "    #pprint(purchases)    \n",
    "\n",
    "with open('visit_log.csv', 'r') as f:\n",
    "    with open('funnel.csv', 'w') as fwrite:\n",
    "        user_id_purchases = ''\n",
    "        for line in f:\n",
    "            list_line = line.strip().split(',')                 # получаю список типа ['6450655ae8','other']\n",
    "            user_id_purchases = list_line[0]                    # назначаю переменной значение user_id из списка\n",
    "            if user_id_purchases in purchases:                  # проверяю условие наличия значения user_id (ключа) в словаре\n",
    "                list_line.append(purchases[user_id_purchases])  #добавляю в список значение найденного ключа \n",
    "                fwrite.write(','.join(list_line) + '\\n')        #записываю в файл список, переведенный в строку с разделителем, чтобы значения \"не слипались\"\n"
   ]
  },
  {
   "cell_type": "code",
   "execution_count": null,
   "metadata": {},
   "outputs": [],
   "source": []
  }
 ],
 "metadata": {
  "kernelspec": {
   "display_name": "Python 3",
   "language": "python",
   "name": "python3"
  },
  "language_info": {
   "codemirror_mode": {
    "name": "ipython",
    "version": 3
   },
   "file_extension": ".py",
   "mimetype": "text/x-python",
   "name": "python",
   "nbconvert_exporter": "python",
   "pygments_lexer": "ipython3",
   "version": "3.8.3"
  }
 },
 "nbformat": 4,
 "nbformat_minor": 4
}
